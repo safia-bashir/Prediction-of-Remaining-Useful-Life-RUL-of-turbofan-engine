{
 "cells": [
  {
   "cell_type": "code",
   "execution_count": 1,
   "id": "ef98a077",
   "metadata": {},
   "outputs": [
    {
     "name": "stderr",
     "output_type": "stream",
     "text": [
      "100%|███████████████████████████████████████████████████████████████████████████████████| 42/42 [00:02<00:00, 16.33it/s]\n"
     ]
    }
   ],
   "source": [
    "from lazypredict.Supervised import LazyRegressor\n",
    "from sklearn import datasets\n",
    "from sklearn.utils import shuffle\n",
    "import numpy as np\n",
    "boston = datasets.load_boston()\n",
    "X, y = shuffle(boston.data, boston.target, random_state=13)\n",
    "X = X.astype(np.float32)\n",
    "offset = int(X.shape[0] * 0.9)\n",
    "X_train, y_train = X[:offset], y[:offset]\n",
    "X_test, y_test = X[offset:], y[offset:]\n",
    "reg = LazyRegressor(verbose=0,ignore_warnings=False, custom_metric=None )\n",
    "models,predictions = reg.fit(X_train, X_test, y_train, y_test)"
   ]
  },
  {
   "cell_type": "code",
   "execution_count": 2,
   "id": "69ea0ac4",
   "metadata": {},
   "outputs": [
    {
     "name": "stdout",
     "output_type": "stream",
     "text": [
      "                               Adjusted R-Squared  R-Squared  RMSE  Time Taken\n",
      "Model                                                                         \n",
      "SVR                                          0.83       0.88  2.62        0.01\n",
      "BaggingRegressor                             0.83       0.88  2.63        0.03\n",
      "NuSVR                                        0.82       0.86  2.76        0.01\n",
      "RandomForestRegressor                        0.81       0.86  2.78        0.24\n",
      "XGBRegressor                                 0.81       0.86  2.79        0.10\n",
      "GradientBoostingRegressor                    0.81       0.86  2.84        0.13\n",
      "ExtraTreesRegressor                          0.79       0.84  2.98        0.15\n",
      "AdaBoostRegressor                            0.78       0.83  3.04        0.07\n",
      "HistGradientBoostingRegressor                0.77       0.83  3.06        0.20\n",
      "PoissonRegressor                             0.77       0.83  3.11        0.01\n",
      "LGBMRegressor                                0.77       0.83  3.11        0.06\n",
      "KNeighborsRegressor                          0.77       0.83  3.12        0.01\n",
      "DecisionTreeRegressor                        0.65       0.74  3.79        0.01\n",
      "MLPRegressor                                 0.65       0.74  3.80        0.22\n",
      "HuberRegressor                               0.64       0.74  3.84        0.02\n",
      "GammaRegressor                               0.64       0.73  3.88        0.01\n",
      "LinearSVR                                    0.62       0.72  3.96        0.01\n",
      "RidgeCV                                      0.62       0.72  3.97        0.01\n",
      "BayesianRidge                                0.62       0.72  3.97        0.03\n",
      "Ridge                                        0.62       0.72  3.97        0.01\n",
      "TransformedTargetRegressor                   0.62       0.72  3.97        0.01\n",
      "LinearRegression                             0.62       0.72  3.97        0.01\n",
      "ElasticNetCV                                 0.62       0.72  3.98        0.05\n",
      "LassoCV                                      0.62       0.72  3.98        0.05\n",
      "LassoLarsIC                                  0.62       0.72  3.98        0.01\n",
      "LassoLarsCV                                  0.62       0.72  3.98        0.02\n",
      "Lars                                         0.61       0.72  3.99        0.01\n",
      "LarsCV                                       0.61       0.71  4.02        0.02\n",
      "SGDRegressor                                 0.60       0.70  4.07        0.01\n",
      "TweedieRegressor                             0.59       0.70  4.12        0.01\n",
      "ElasticNet                                   0.58       0.69  4.16        0.01\n",
      "Lasso                                        0.54       0.66  4.35        0.01\n",
      "RANSACRegressor                              0.53       0.65  4.41        0.08\n",
      "OrthogonalMatchingPursuitCV                  0.45       0.59  4.78        0.01\n",
      "PassiveAggressiveRegressor                   0.37       0.54  5.09        0.01\n",
      "GaussianProcessRegressor                     0.23       0.43  5.65        0.04\n",
      "OrthogonalMatchingPursuit                    0.16       0.38  5.89        0.01\n",
      "ExtraTreeRegressor                           0.08       0.32  6.17        0.01\n",
      "QuantileRegressor                           -0.35      -0.00  7.49        0.82\n",
      "DummyRegressor                              -0.38      -0.02  7.56        0.01\n",
      "LassoLars                                   -0.38      -0.02  7.56        0.01\n",
      "KernelRidge                                -11.50      -8.25 22.74        0.02\n"
     ]
    }
   ],
   "source": [
    "\n",
    "print(models)"
   ]
  },
  {
   "cell_type": "code",
   "execution_count": null,
   "id": "901fff38",
   "metadata": {},
   "outputs": [],
   "source": []
  }
 ],
 "metadata": {
  "kernelspec": {
   "display_name": "Python 3 (ipykernel)",
   "language": "python",
   "name": "python3"
  },
  "language_info": {
   "codemirror_mode": {
    "name": "ipython",
    "version": 3
   },
   "file_extension": ".py",
   "mimetype": "text/x-python",
   "name": "python",
   "nbconvert_exporter": "python",
   "pygments_lexer": "ipython3",
   "version": "3.8.13"
  }
 },
 "nbformat": 4,
 "nbformat_minor": 5
}
