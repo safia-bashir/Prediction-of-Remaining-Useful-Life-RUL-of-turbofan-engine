{
 "cells": [
  {
   "cell_type": "code",
   "execution_count": 1,
   "id": "412453a4",
   "metadata": {},
   "outputs": [
    {
     "name": "stdout",
     "output_type": "stream",
     "text": [
      "Pandas version:  1.5.1\n",
      "Numpy version:  1.23.4\n",
      "Scikit-learn version:  1.1.3\n"
     ]
    }
   ],
   "source": [
    "\n",
    "%matplotlib inline\n",
    "import pandas as pd\n",
    "import numpy as np\n",
    "import matplotlib.pyplot as plt\n",
    "import seaborn as sns\n",
    "import sklearn\n",
    "from sklearn.preprocessing import StandardScaler, MinMaxScaler\n",
    "from sklearn.linear_model import LinearRegression\n",
    "from sklearn.metrics import mean_squared_error, r2_score\n",
    "\n",
    "pd.set_option('display.max_columns', None)\n",
    "\n",
    "print(\"Pandas version: \", pd.__version__)\n",
    "print(\"Numpy version: \", np.__version__)\n",
    "print(\"Scikit-learn version: \", sklearn.__version__)\n"
   ]
  },
  {
   "cell_type": "code",
   "execution_count": 2,
   "id": "5ee7ca54",
   "metadata": {},
   "outputs": [],
   "source": [
    "# Identify column names to make indexing easier\n",
    "\n",
    "index_name=[\"unit_number\",\"cycles\"]\n",
    "operational_setting =[\"setting_1\",\"setting_2\",\"setting_3\"]\n",
    "sensor=[\"s_{}\".format(i+1) for i in range(0,21)]\n",
    "\n",
    "col_names = index_name + operational_setting + sensor\n",
    "\n",
    "# read data\n",
    "\n",
    "train = pd.read_csv(r\"/mnt/c/Users/safsa/Desktop/Fourth_Brain/MLE_project/Project/data/train_FD001.txt\", sep = \"\\s+\", header = None,index_col=False,names=col_names)\n",
    "\n",
    "test = pd.read_csv(r\"/mnt/c/Users/safsa/Desktop/Fourth_Brain/MLE_project/Project/data/test_FD001.txt\", sep = \"\\s+\", header = None,index_col=False,names=col_names)\n",
    "\n",
    "y_test = pd.read_csv(r\"/mnt/c/Users/safsa/Desktop/Fourth_Brain/MLE_project/Project/data/RUL_FD001.txt\", sep = \"\\s+\", header = None,index_col=False)\n",
    "\n",
    "#pd.read_csv((dir_path+'RUL_FD001.txt'), sep='\\s+', header=None, names=['RUL'])\n",
    "\n",
    "\n"
   ]
  },
  {
   "cell_type": "code",
   "execution_count": 3,
   "id": "9ab6af17",
   "metadata": {},
   "outputs": [
    {
     "data": {
      "text/html": [
       "<div>\n",
       "<style scoped>\n",
       "    .dataframe tbody tr th:only-of-type {\n",
       "        vertical-align: middle;\n",
       "    }\n",
       "\n",
       "    .dataframe tbody tr th {\n",
       "        vertical-align: top;\n",
       "    }\n",
       "\n",
       "    .dataframe thead th {\n",
       "        text-align: right;\n",
       "    }\n",
       "</style>\n",
       "<table border=\"1\" class=\"dataframe\">\n",
       "  <thead>\n",
       "    <tr style=\"text-align: right;\">\n",
       "      <th></th>\n",
       "      <th>unit_number</th>\n",
       "      <th>cycles</th>\n",
       "      <th>RUL</th>\n",
       "    </tr>\n",
       "  </thead>\n",
       "  <tbody>\n",
       "    <tr>\n",
       "      <th>0</th>\n",
       "      <td>1</td>\n",
       "      <td>1</td>\n",
       "      <td>191</td>\n",
       "    </tr>\n",
       "    <tr>\n",
       "      <th>1</th>\n",
       "      <td>1</td>\n",
       "      <td>2</td>\n",
       "      <td>190</td>\n",
       "    </tr>\n",
       "    <tr>\n",
       "      <th>2</th>\n",
       "      <td>1</td>\n",
       "      <td>3</td>\n",
       "      <td>189</td>\n",
       "    </tr>\n",
       "    <tr>\n",
       "      <th>3</th>\n",
       "      <td>1</td>\n",
       "      <td>4</td>\n",
       "      <td>188</td>\n",
       "    </tr>\n",
       "    <tr>\n",
       "      <th>4</th>\n",
       "      <td>1</td>\n",
       "      <td>5</td>\n",
       "      <td>187</td>\n",
       "    </tr>\n",
       "  </tbody>\n",
       "</table>\n",
       "</div>"
      ],
      "text/plain": [
       "   unit_number  cycles  RUL\n",
       "0            1       1  191\n",
       "1            1       2  190\n",
       "2            1       3  189\n",
       "3            1       4  188\n",
       "4            1       5  187"
      ]
     },
     "execution_count": 3,
     "metadata": {},
     "output_type": "execute_result"
    }
   ],
   "source": [
    "def add_remaining_useful_life(df):\n",
    "    # Get the total number of cycles for each unit\n",
    "    grouped_by_unit = df.groupby(by=\"unit_number\")\n",
    "    max_cycle = grouped_by_unit[\"cycles\"].max()\n",
    "    \n",
    "    # Merge the max cycle back into the original frame\n",
    "    result_frame = df.merge(max_cycle.to_frame(name='max_cycle'), left_on='unit_number', right_index=True)\n",
    "    \n",
    "    # Calculate remaining useful life for each row\n",
    "    remaining_useful_life = result_frame[\"max_cycle\"] - result_frame[\"cycles\"]\n",
    "    result_frame[\"RUL\"] = remaining_useful_life\n",
    "    \n",
    "    # drop max_cycle as it's no longer needed\n",
    "    result_frame = result_frame.drop(\"max_cycle\", axis=1)\n",
    "    return result_frame\n",
    "  \n",
    "train = add_remaining_useful_life(train)\n",
    "train[index_name+['RUL']].head()"
   ]
  },
  {
   "cell_type": "code",
   "execution_count": 4,
   "id": "5e9163a4",
   "metadata": {},
   "outputs": [],
   "source": [
    "# Deropping uncceary sanasor and \n",
    "drop_sensors = ['s_1','s_5','s_6','s_10','s_16','s_18','s_19']\n",
    "drop_labels = index_name + operational_setting+drop_sensors\n",
    "\n",
    "X_train = train.drop(drop_labels, axis=1)\n",
    "y_train = X_train.pop('RUL')\n",
    "\n",
    "\n",
    "# Since the true RUL values for the test set are only provided for the last time cycle of each enginge, \n",
    "# the test set is subsetted to represent the same\n",
    "X_test = test.groupby('unit_number').last().reset_index().drop(drop_labels, axis=1)"
   ]
  },
  {
   "cell_type": "code",
   "execution_count": 5,
   "id": "c2a05ea4",
   "metadata": {},
   "outputs": [],
   "source": [
    "y_train_1=y_train.replace(0, 1)"
   ]
  },
  {
   "cell_type": "code",
   "execution_count": null,
   "id": "7de62931",
   "metadata": {},
   "outputs": [],
   "source": [
    "from lazypredict.Supervised import LazyRegressor\n",
    "offset = int(X_train.shape[0]*0.9 )\n",
    "X_train, y_train = X_train[:offset], y_train[:offset]\n",
    "X_test, y_test = X_train[offset:], y_train[offset:]\n",
    "reg = LazyRegressor(verbose=0,ignore_warnings=False, custom_metric=None )\n",
    "models,predictions = reg.fit(X_train, X_test, y_train, y_test)"
   ]
  },
  {
   "cell_type": "code",
   "execution_count": 9,
   "id": "4be5e64a",
   "metadata": {},
   "outputs": [
    {
     "ename": "NameError",
     "evalue": "name 'model' is not defined",
     "output_type": "error",
     "traceback": [
      "\u001b[0;31m---------------------------------------------------------------------------\u001b[0m",
      "\u001b[0;31mNameError\u001b[0m                                 Traceback (most recent call last)",
      "Input \u001b[0;32mIn [9]\u001b[0m, in \u001b[0;36m<cell line: 1>\u001b[0;34m()\u001b[0m\n\u001b[0;32m----> 1\u001b[0m \u001b[38;5;28mprint\u001b[39m(\u001b[43mmodel\u001b[49m)\n",
      "\u001b[0;31mNameError\u001b[0m: name 'model' is not defined"
     ]
    }
   ],
   "source": [
    "print(model)\n"
   ]
  },
  {
   "cell_type": "code",
   "execution_count": 10,
   "id": "1f86f80c",
   "metadata": {},
   "outputs": [
    {
     "name": "stdout",
     "output_type": "stream",
     "text": [
      "Empty DataFrame\n",
      "Columns: [Adjusted R-Squared, R-Squared, RMSE, Time Taken]\n",
      "Index: []\n"
     ]
    }
   ],
   "source": [
    "print(models)"
   ]
  },
  {
   "cell_type": "code",
   "execution_count": null,
   "id": "c301a71c",
   "metadata": {},
   "outputs": [],
   "source": []
  }
 ],
 "metadata": {
  "kernelspec": {
   "display_name": "Python 3 (ipykernel)",
   "language": "python",
   "name": "python3"
  },
  "language_info": {
   "codemirror_mode": {
    "name": "ipython",
    "version": 3
   },
   "file_extension": ".py",
   "mimetype": "text/x-python",
   "name": "python",
   "nbconvert_exporter": "python",
   "pygments_lexer": "ipython3",
   "version": "3.10.8"
  }
 },
 "nbformat": 4,
 "nbformat_minor": 5
}
